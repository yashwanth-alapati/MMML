{
 "cells": [
  {
   "cell_type": "markdown",
   "id": "c3f51da0-0252-45d7-bfdb-2db7e67b6be5",
   "metadata": {},
   "source": [
    "<a target=\"_blank\" href=\"https://colab.research.google.com/github/yashwanth-alapati/MMML/blob/main/code/Uni_Modality/Text_Modality.ipynb\">\n",
    "  <img src=\"https://colab.research.google.com/assets/colab-badge.svg\" alt=\"Open In Colab\"/>\n",
    "</a>"
   ]
  },
  {
   "cell_type": "markdown",
   "id": "a5ed8eaa-251e-4140-86a6-febf04ca3a93",
   "metadata": {},
   "source": [
    "In this we will largely talk about Transformers. We will also explore LSTM\n"
   ]
  },
  {
   "cell_type": "code",
   "execution_count": null,
   "id": "e2680278-a8b3-4539-ae66-db5d9d8c1c86",
   "metadata": {},
   "outputs": [],
   "source": []
  }
 ],
 "metadata": {
  "kernelspec": {
   "display_name": "Python 3 (ipykernel)",
   "language": "python",
   "name": "python3"
  },
  "language_info": {
   "codemirror_mode": {
    "name": "ipython",
    "version": 3
   },
   "file_extension": ".py",
   "mimetype": "text/x-python",
   "name": "python",
   "nbconvert_exporter": "python",
   "pygments_lexer": "ipython3",
   "version": "3.11.7"
  }
 },
 "nbformat": 4,
 "nbformat_minor": 5
}
